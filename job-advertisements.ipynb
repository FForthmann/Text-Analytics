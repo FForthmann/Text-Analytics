{
 "cells": [
  {
   "cell_type": "code",
   "execution_count": 32,
   "outputs": [
    {
     "name": "stdout",
     "output_type": "stream",
     "text": [
      "Requirement already satisfied: spacy in /Users/fafor/miniforge3/envs/python38/lib/python3.8/site-packages (3.5.2)\r\n",
      "Requirement already satisfied: pandas in /Users/fafor/miniforge3/envs/python38/lib/python3.8/site-packages (1.4.3)\r\n",
      "Requirement already satisfied: openpyxl in /Users/fafor/miniforge3/envs/python38/lib/python3.8/site-packages (3.1.2)\r\n",
      "Requirement already satisfied: langcodes<4.0.0,>=3.2.0 in /Users/fafor/miniforge3/envs/python38/lib/python3.8/site-packages (from spacy) (3.3.0)\r\n",
      "Requirement already satisfied: spacy-loggers<2.0.0,>=1.0.0 in /Users/fafor/miniforge3/envs/python38/lib/python3.8/site-packages (from spacy) (1.0.5)\r\n",
      "Requirement already satisfied: packaging>=20.0 in /Users/fafor/miniforge3/envs/python38/lib/python3.8/site-packages (from spacy) (23.1)\r\n",
      "Requirement already satisfied: cymem<2.1.0,>=2.0.2 in /Users/fafor/miniforge3/envs/python38/lib/python3.8/site-packages (from spacy) (2.0.7)\r\n",
      "Requirement already satisfied: spacy-legacy<3.1.0,>=3.0.11 in /Users/fafor/miniforge3/envs/python38/lib/python3.8/site-packages (from spacy) (3.0.12)\r\n",
      "Requirement already satisfied: jinja2 in /Users/fafor/miniforge3/envs/python38/lib/python3.8/site-packages (from spacy) (3.1.2)\r\n",
      "Requirement already satisfied: wasabi<1.2.0,>=0.9.1 in /Users/fafor/miniforge3/envs/python38/lib/python3.8/site-packages (from spacy) (1.1.2)\r\n",
      "Requirement already satisfied: requests<3.0.0,>=2.13.0 in /Users/fafor/miniforge3/envs/python38/lib/python3.8/site-packages (from spacy) (2.31.0)\r\n",
      "Requirement already satisfied: setuptools in /Users/fafor/miniforge3/envs/python38/lib/python3.8/site-packages (from spacy) (67.1.0)\r\n",
      "Requirement already satisfied: numpy>=1.15.0 in /Users/fafor/miniforge3/envs/python38/lib/python3.8/site-packages (from spacy) (1.24.2)\r\n",
      "Requirement already satisfied: srsly<3.0.0,>=2.4.3 in /Users/fafor/miniforge3/envs/python38/lib/python3.8/site-packages (from spacy) (2.4.6)\r\n",
      "Requirement already satisfied: preshed<3.1.0,>=3.0.2 in /Users/fafor/miniforge3/envs/python38/lib/python3.8/site-packages (from spacy) (3.0.8)\r\n",
      "Requirement already satisfied: pathy>=0.10.0 in /Users/fafor/miniforge3/envs/python38/lib/python3.8/site-packages (from spacy) (0.10.2)\r\n",
      "Requirement already satisfied: murmurhash<1.1.0,>=0.28.0 in /Users/fafor/miniforge3/envs/python38/lib/python3.8/site-packages (from spacy) (1.0.9)\r\n",
      "Requirement already satisfied: pydantic!=1.8,!=1.8.1,<1.11.0,>=1.7.4 in /Users/fafor/miniforge3/envs/python38/lib/python3.8/site-packages (from spacy) (1.10.7)\r\n",
      "Requirement already satisfied: catalogue<2.1.0,>=2.0.6 in /Users/fafor/miniforge3/envs/python38/lib/python3.8/site-packages (from spacy) (2.0.9)\r\n",
      "Requirement already satisfied: typer<0.8.0,>=0.3.0 in /Users/fafor/miniforge3/envs/python38/lib/python3.8/site-packages (from spacy) (0.7.0)\r\n",
      "Requirement already satisfied: tqdm<5.0.0,>=4.38.0 in /Users/fafor/miniforge3/envs/python38/lib/python3.8/site-packages (from spacy) (4.66.1)\r\n",
      "Requirement already satisfied: smart-open<7.0.0,>=5.2.1 in /Users/fafor/miniforge3/envs/python38/lib/python3.8/site-packages (from spacy) (5.2.1)\r\n",
      "Requirement already satisfied: thinc<8.2.0,>=8.1.8 in /Users/fafor/miniforge3/envs/python38/lib/python3.8/site-packages (from spacy) (8.1.9)\r\n",
      "Requirement already satisfied: python-dateutil>=2.8.1 in /Users/fafor/miniforge3/envs/python38/lib/python3.8/site-packages (from pandas) (2.8.2)\r\n",
      "Requirement already satisfied: pytz>=2020.1 in /Users/fafor/miniforge3/envs/python38/lib/python3.8/site-packages (from pandas) (2023.3.post1)\r\n",
      "Requirement already satisfied: et-xmlfile in /Users/fafor/miniforge3/envs/python38/lib/python3.8/site-packages (from openpyxl) (1.1.0)\r\n",
      "Requirement already satisfied: typing-extensions>=4.2.0 in /Users/fafor/miniforge3/envs/python38/lib/python3.8/site-packages (from pydantic!=1.8,!=1.8.1,<1.11.0,>=1.7.4->spacy) (4.5.0)\r\n",
      "Requirement already satisfied: six>=1.5 in /Users/fafor/miniforge3/envs/python38/lib/python3.8/site-packages (from python-dateutil>=2.8.1->pandas) (1.16.0)\r\n",
      "Requirement already satisfied: idna<4,>=2.5 in /Users/fafor/miniforge3/envs/python38/lib/python3.8/site-packages (from requests<3.0.0,>=2.13.0->spacy) (3.4)\r\n",
      "Requirement already satisfied: urllib3<3,>=1.21.1 in /Users/fafor/miniforge3/envs/python38/lib/python3.8/site-packages (from requests<3.0.0,>=2.13.0->spacy) (1.26.15)\r\n",
      "Requirement already satisfied: certifi>=2017.4.17 in /Users/fafor/miniforge3/envs/python38/lib/python3.8/site-packages (from requests<3.0.0,>=2.13.0->spacy) (2023.7.22)\r\n",
      "Requirement already satisfied: charset-normalizer<4,>=2 in /Users/fafor/miniforge3/envs/python38/lib/python3.8/site-packages (from requests<3.0.0,>=2.13.0->spacy) (2.1.1)\r\n",
      "Requirement already satisfied: blis<0.8.0,>=0.7.8 in /Users/fafor/miniforge3/envs/python38/lib/python3.8/site-packages (from thinc<8.2.0,>=8.1.8->spacy) (0.7.10)\r\n",
      "Requirement already satisfied: confection<1.0.0,>=0.0.1 in /Users/fafor/miniforge3/envs/python38/lib/python3.8/site-packages (from thinc<8.2.0,>=8.1.8->spacy) (0.1.3)\r\n",
      "Requirement already satisfied: click<9.0.0,>=7.1.1 in /Users/fafor/miniforge3/envs/python38/lib/python3.8/site-packages (from typer<0.8.0,>=0.3.0->spacy) (8.1.3)\r\n",
      "Requirement already satisfied: MarkupSafe>=2.0 in /Users/fafor/miniforge3/envs/python38/lib/python3.8/site-packages (from jinja2->spacy) (2.1.3)\r\n",
      "Collecting de-core-news-sm==3.5.0\r\n",
      "  Downloading https://github.com/explosion/spacy-models/releases/download/de_core_news_sm-3.5.0/de_core_news_sm-3.5.0-py3-none-any.whl (14.6 MB)\r\n",
      "\u001B[2K     \u001B[90m━━━━━━━━━━━━━━━━━━━━━━━━━━━━━━━━━━━━━━━━\u001B[0m \u001B[32m14.6/14.6 MB\u001B[0m \u001B[31m11.1 MB/s\u001B[0m eta \u001B[36m0:00:00\u001B[0m00:01\u001B[0m00:01\u001B[0m\r\n",
      "\u001B[?25hRequirement already satisfied: spacy<3.6.0,>=3.5.0 in /Users/fafor/miniforge3/envs/python38/lib/python3.8/site-packages (from de-core-news-sm==3.5.0) (3.5.2)\r\n",
      "Requirement already satisfied: jinja2 in /Users/fafor/miniforge3/envs/python38/lib/python3.8/site-packages (from spacy<3.6.0,>=3.5.0->de-core-news-sm==3.5.0) (3.1.2)\r\n",
      "Requirement already satisfied: numpy>=1.15.0 in /Users/fafor/miniforge3/envs/python38/lib/python3.8/site-packages (from spacy<3.6.0,>=3.5.0->de-core-news-sm==3.5.0) (1.24.2)\r\n",
      "Requirement already satisfied: requests<3.0.0,>=2.13.0 in /Users/fafor/miniforge3/envs/python38/lib/python3.8/site-packages (from spacy<3.6.0,>=3.5.0->de-core-news-sm==3.5.0) (2.31.0)\r\n",
      "Requirement already satisfied: typer<0.8.0,>=0.3.0 in /Users/fafor/miniforge3/envs/python38/lib/python3.8/site-packages (from spacy<3.6.0,>=3.5.0->de-core-news-sm==3.5.0) (0.7.0)\r\n",
      "Requirement already satisfied: thinc<8.2.0,>=8.1.8 in /Users/fafor/miniforge3/envs/python38/lib/python3.8/site-packages (from spacy<3.6.0,>=3.5.0->de-core-news-sm==3.5.0) (8.1.9)\r\n",
      "Requirement already satisfied: spacy-loggers<2.0.0,>=1.0.0 in /Users/fafor/miniforge3/envs/python38/lib/python3.8/site-packages (from spacy<3.6.0,>=3.5.0->de-core-news-sm==3.5.0) (1.0.5)\r\n",
      "Requirement already satisfied: cymem<2.1.0,>=2.0.2 in /Users/fafor/miniforge3/envs/python38/lib/python3.8/site-packages (from spacy<3.6.0,>=3.5.0->de-core-news-sm==3.5.0) (2.0.7)\r\n",
      "Requirement already satisfied: packaging>=20.0 in /Users/fafor/miniforge3/envs/python38/lib/python3.8/site-packages (from spacy<3.6.0,>=3.5.0->de-core-news-sm==3.5.0) (23.1)\r\n",
      "Requirement already satisfied: setuptools in /Users/fafor/miniforge3/envs/python38/lib/python3.8/site-packages (from spacy<3.6.0,>=3.5.0->de-core-news-sm==3.5.0) (67.1.0)\r\n",
      "Requirement already satisfied: langcodes<4.0.0,>=3.2.0 in /Users/fafor/miniforge3/envs/python38/lib/python3.8/site-packages (from spacy<3.6.0,>=3.5.0->de-core-news-sm==3.5.0) (3.3.0)\r\n",
      "Requirement already satisfied: pydantic!=1.8,!=1.8.1,<1.11.0,>=1.7.4 in /Users/fafor/miniforge3/envs/python38/lib/python3.8/site-packages (from spacy<3.6.0,>=3.5.0->de-core-news-sm==3.5.0) (1.10.7)\r\n",
      "Requirement already satisfied: wasabi<1.2.0,>=0.9.1 in /Users/fafor/miniforge3/envs/python38/lib/python3.8/site-packages (from spacy<3.6.0,>=3.5.0->de-core-news-sm==3.5.0) (1.1.2)\r\n",
      "Requirement already satisfied: murmurhash<1.1.0,>=0.28.0 in /Users/fafor/miniforge3/envs/python38/lib/python3.8/site-packages (from spacy<3.6.0,>=3.5.0->de-core-news-sm==3.5.0) (1.0.9)\r\n",
      "Requirement already satisfied: tqdm<5.0.0,>=4.38.0 in /Users/fafor/miniforge3/envs/python38/lib/python3.8/site-packages (from spacy<3.6.0,>=3.5.0->de-core-news-sm==3.5.0) (4.66.1)\r\n",
      "Requirement already satisfied: smart-open<7.0.0,>=5.2.1 in /Users/fafor/miniforge3/envs/python38/lib/python3.8/site-packages (from spacy<3.6.0,>=3.5.0->de-core-news-sm==3.5.0) (5.2.1)\r\n",
      "Requirement already satisfied: preshed<3.1.0,>=3.0.2 in /Users/fafor/miniforge3/envs/python38/lib/python3.8/site-packages (from spacy<3.6.0,>=3.5.0->de-core-news-sm==3.5.0) (3.0.8)\r\n",
      "Requirement already satisfied: spacy-legacy<3.1.0,>=3.0.11 in /Users/fafor/miniforge3/envs/python38/lib/python3.8/site-packages (from spacy<3.6.0,>=3.5.0->de-core-news-sm==3.5.0) (3.0.12)\r\n",
      "Requirement already satisfied: catalogue<2.1.0,>=2.0.6 in /Users/fafor/miniforge3/envs/python38/lib/python3.8/site-packages (from spacy<3.6.0,>=3.5.0->de-core-news-sm==3.5.0) (2.0.9)\r\n",
      "Requirement already satisfied: pathy>=0.10.0 in /Users/fafor/miniforge3/envs/python38/lib/python3.8/site-packages (from spacy<3.6.0,>=3.5.0->de-core-news-sm==3.5.0) (0.10.2)\r\n",
      "Requirement already satisfied: srsly<3.0.0,>=2.4.3 in /Users/fafor/miniforge3/envs/python38/lib/python3.8/site-packages (from spacy<3.6.0,>=3.5.0->de-core-news-sm==3.5.0) (2.4.6)\r\n",
      "Requirement already satisfied: typing-extensions>=4.2.0 in /Users/fafor/miniforge3/envs/python38/lib/python3.8/site-packages (from pydantic!=1.8,!=1.8.1,<1.11.0,>=1.7.4->spacy<3.6.0,>=3.5.0->de-core-news-sm==3.5.0) (4.5.0)\r\n",
      "Requirement already satisfied: charset-normalizer<4,>=2 in /Users/fafor/miniforge3/envs/python38/lib/python3.8/site-packages (from requests<3.0.0,>=2.13.0->spacy<3.6.0,>=3.5.0->de-core-news-sm==3.5.0) (2.1.1)\r\n",
      "Requirement already satisfied: idna<4,>=2.5 in /Users/fafor/miniforge3/envs/python38/lib/python3.8/site-packages (from requests<3.0.0,>=2.13.0->spacy<3.6.0,>=3.5.0->de-core-news-sm==3.5.0) (3.4)\r\n",
      "Requirement already satisfied: certifi>=2017.4.17 in /Users/fafor/miniforge3/envs/python38/lib/python3.8/site-packages (from requests<3.0.0,>=2.13.0->spacy<3.6.0,>=3.5.0->de-core-news-sm==3.5.0) (2023.7.22)\r\n",
      "Requirement already satisfied: urllib3<3,>=1.21.1 in /Users/fafor/miniforge3/envs/python38/lib/python3.8/site-packages (from requests<3.0.0,>=2.13.0->spacy<3.6.0,>=3.5.0->de-core-news-sm==3.5.0) (1.26.15)\r\n",
      "Requirement already satisfied: confection<1.0.0,>=0.0.1 in /Users/fafor/miniforge3/envs/python38/lib/python3.8/site-packages (from thinc<8.2.0,>=8.1.8->spacy<3.6.0,>=3.5.0->de-core-news-sm==3.5.0) (0.1.3)\r\n",
      "Requirement already satisfied: blis<0.8.0,>=0.7.8 in /Users/fafor/miniforge3/envs/python38/lib/python3.8/site-packages (from thinc<8.2.0,>=8.1.8->spacy<3.6.0,>=3.5.0->de-core-news-sm==3.5.0) (0.7.10)\r\n",
      "Requirement already satisfied: click<9.0.0,>=7.1.1 in /Users/fafor/miniforge3/envs/python38/lib/python3.8/site-packages (from typer<0.8.0,>=0.3.0->spacy<3.6.0,>=3.5.0->de-core-news-sm==3.5.0) (8.1.3)\r\n",
      "Requirement already satisfied: MarkupSafe>=2.0 in /Users/fafor/miniforge3/envs/python38/lib/python3.8/site-packages (from jinja2->spacy<3.6.0,>=3.5.0->de-core-news-sm==3.5.0) (2.1.3)\r\n",
      "\u001B[38;5;2m✔ Download and installation successful\u001B[0m\r\n",
      "You can now load the package via spacy.load('de_core_news_sm')\r\n"
     ]
    }
   ],
   "source": [
    "# Downloading necessary dependencies\n",
    "! pip install spacy pandas openpyxl\n",
    "! python -m spacy download de_core_news_sm"
   ],
   "metadata": {
    "collapsed": false,
    "ExecuteTime": {
     "end_time": "2023-09-18T12:12:47.450380Z",
     "start_time": "2023-09-18T12:12:37.966567Z"
    }
   },
   "id": "47d4ece9567fb303"
  },
  {
   "cell_type": "code",
   "execution_count": 33,
   "outputs": [],
   "source": [
    "import spacy\n",
    "import pandas as pd\n",
    "\n",
    "# Excel-Datei lesen\n",
    "df = pd.read_excel(r'Stellenausschreibungen_2022_HES.xlsx')\n"
   ],
   "metadata": {
    "collapsed": false,
    "ExecuteTime": {
     "end_time": "2023-09-18T12:12:47.523133Z",
     "start_time": "2023-09-18T12:12:47.452915Z"
    }
   },
   "id": "9d2006fd45a191e0"
  },
  {
   "cell_type": "code",
   "execution_count": 34,
   "outputs": [
    {
     "data": {
      "text/plain": "                           count unique  \\\nTitel                        626    563   \nUnternehmen                  626    503   \nText                         626    623   \nUnternehmen - 1. Buchstabe   626     30   \n6 Gruppen                      6      6   \n5 Gruppen                      4      4   \n\n                                                                          top  \\\nTitel                                                    Data Analyst (m/w/d)   \nUnternehmen                                                     Volkswagen AG   \nText                        Stellenbeschreibung\\nAnstellungsart\\nVollzeit\\...   \nUnternehmen - 1. Buchstabe                                                  A   \n6 Gruppen                                                         Ende Teil 1   \n5 Gruppen                                                         Ende Teil 1   \n\n                           freq  \nTitel                        18  \nUnternehmen                   5  \nText                          2  \nUnternehmen - 1. Buchstabe   73  \n6 Gruppen                     1  \n5 Gruppen                     1  ",
      "text/html": "<div>\n<style scoped>\n    .dataframe tbody tr th:only-of-type {\n        vertical-align: middle;\n    }\n\n    .dataframe tbody tr th {\n        vertical-align: top;\n    }\n\n    .dataframe thead th {\n        text-align: right;\n    }\n</style>\n<table border=\"1\" class=\"dataframe\">\n  <thead>\n    <tr style=\"text-align: right;\">\n      <th></th>\n      <th>count</th>\n      <th>unique</th>\n      <th>top</th>\n      <th>freq</th>\n    </tr>\n  </thead>\n  <tbody>\n    <tr>\n      <th>Titel</th>\n      <td>626</td>\n      <td>563</td>\n      <td>Data Analyst (m/w/d)</td>\n      <td>18</td>\n    </tr>\n    <tr>\n      <th>Unternehmen</th>\n      <td>626</td>\n      <td>503</td>\n      <td>Volkswagen AG</td>\n      <td>5</td>\n    </tr>\n    <tr>\n      <th>Text</th>\n      <td>626</td>\n      <td>623</td>\n      <td>Stellenbeschreibung\\nAnstellungsart\\nVollzeit\\...</td>\n      <td>2</td>\n    </tr>\n    <tr>\n      <th>Unternehmen - 1. Buchstabe</th>\n      <td>626</td>\n      <td>30</td>\n      <td>A</td>\n      <td>73</td>\n    </tr>\n    <tr>\n      <th>6 Gruppen</th>\n      <td>6</td>\n      <td>6</td>\n      <td>Ende Teil 1</td>\n      <td>1</td>\n    </tr>\n    <tr>\n      <th>5 Gruppen</th>\n      <td>4</td>\n      <td>4</td>\n      <td>Ende Teil 1</td>\n      <td>1</td>\n    </tr>\n  </tbody>\n</table>\n</div>"
     },
     "execution_count": 34,
     "metadata": {},
     "output_type": "execute_result"
    }
   ],
   "source": [
    "df.describe().T"
   ],
   "metadata": {
    "collapsed": false,
    "ExecuteTime": {
     "end_time": "2023-09-18T12:12:47.551440Z",
     "start_time": "2023-09-18T12:12:47.525641Z"
    }
   },
   "id": "e945161166880140"
  },
  {
   "cell_type": "code",
   "execution_count": 35,
   "outputs": [
    {
     "data": {
      "text/plain": "<bound method NDFrame.head of                                                  Titel  \\\n0    (Junior) Controller - Financial Planning & Ana...   \n1                           (Junior) Sales Ops Analyst   \n2                         Web Analytics Expert (m/w/d)   \n3              Data Analysis / Datenauswertung (m/w/d)   \n4         Lead Data Analyst/Consultant (m/w/d), Berlin   \n..                                                 ...   \n621  (Senior) Data Analyst / Data Manager (w/m/d) C...   \n622           Senior Consultant Data Analytics (m/w/d)   \n623     (Senior) Business Analyst (m/w/d) Credit Lines   \n624              Business Analyst (m/w/d) Credit Lines   \n625                   Service Business Analyst (m/w/d)   \n\n                   Unternehmen  \\\n0                         1NCE   \n1                         1NCE   \n2                  21TORR GmbH   \n3    3P Services GmbH & Co. KG   \n4     9 friendly white rabbits   \n..                         ...   \n621         ZEIT Verlagsgruppe   \n622                         ZF   \n623  Zurich Gruppe Deutschland   \n624           Zurich Insurance   \n625     Оконная Компания Олимп   \n\n                                                  Text  \\\n0    Stellenbeschreibung\\nAnstellungsart\\nVollzeit\\...   \n1    Stellenbeschreibung\\nAnstellungsart\\nVollzeit\\...   \n2    Stellenbeschreibung\\nAnstellungsart\\nVollzeit\\...   \n3    Stellenbeschreibung\\nAnstellungsart\\nVollzeit\\...   \n4    Stellenbeschreibung\\nAnstellungsart\\nVollzeit\\...   \n..                                                 ...   \n621  Stellenbeschreibung\\nAnstellungsart\\nFestanste...   \n622  What's Next? Join ZF!\\nZF ist ein weltweit agi...   \n623  Stellenbeschreibung\\nAnstellungsart\\nVollzeit\\...   \n624  Stellenbeschreibung\\nAnstellungsart\\nVollzeit\\...   \n625  Stellenbeschreibung\\nAnstellungsart\\nFestanste...   \n\n    Unternehmen - 1. Buchstabe    6 Gruppen 5 Gruppen  \n0                            1          NaN       NaN  \n1                            1          NaN       NaN  \n2                            2          NaN       NaN  \n3                            3          NaN       NaN  \n4                            9          NaN       NaN  \n..                         ...          ...       ...  \n621                          Z          NaN       NaN  \n622                          Z          NaN       NaN  \n623                          Z          NaN       NaN  \n624                          Z  Ende Teil 6       NaN  \n625                          О          NaN       NaN  \n\n[626 rows x 6 columns]>"
     },
     "execution_count": 35,
     "metadata": {},
     "output_type": "execute_result"
    }
   ],
   "source": [
    "df.head"
   ],
   "metadata": {
    "collapsed": false,
    "ExecuteTime": {
     "end_time": "2023-09-18T12:12:47.551729Z",
     "start_time": "2023-09-18T12:12:47.537439Z"
    }
   },
   "id": "9f5a9df141daea35"
  },
  {
   "cell_type": "code",
   "execution_count": 36,
   "outputs": [],
   "source": [
    "# Lade das deutsche Spacy-Modell und die Stopwörter-Liste\n",
    "nlp = spacy.load(\"de_core_news_sm\", disable=[\"tagger\", \"parser\", \"ner\"])\n",
    "stopwords = nlp.Defaults.stop_words\n",
    "\n",
    "# Methoden zur Tokenisierung mit und ohne stopwords\n",
    "def tokenize_text(text):\n",
    "    doc = nlp(text)\n",
    "    return [token.text for token in doc]\n",
    "\n",
    "def tokenize_without_stopwords(text):\n",
    "    doc = nlp(text)\n",
    "    return [token.text for token in doc if not (token.is_stop or token.is_punct)]\n",
    "\n",
    "def tokenize_only_stopwords(text):\n",
    "    doc = nlp(text)\n",
    "    return [token.text for token in doc if token.is_stop]"
   ],
   "metadata": {
    "collapsed": false,
    "ExecuteTime": {
     "end_time": "2023-09-18T12:12:48.080264Z",
     "start_time": "2023-09-18T12:12:47.542357Z"
    }
   },
   "id": "cc5dc46126ce9fd7"
  },
  {
   "cell_type": "code",
   "execution_count": 39,
   "outputs": [
    {
     "name": "stdout",
     "output_type": "stream",
     "text": [
      "Die fünf am häufigsten verwendeten Wörter (ohne Stopwörter) sind:\n",
      "Data: 1084 mal\n",
      "Stellenbeschreibung: 925 mal\n",
      "Kunden: 800 mal\n",
      "Analytics: 785 mal\n",
      "Team: 709 mal\n",
      "Analyse und Tokenisierung abgeschlossen und Ergebnisse gespeichert.\n"
     ]
    }
   ],
   "source": [
    "# Analyse der Spalte \"Text\"\n",
    "df[\"tokens\"] = df[\"Text\"].apply(tokenize_text)\n",
    "df[\"tokens_without_stopwords\"] = df[\"Text\"].apply(tokenize_without_stopwords)\n",
    "df[\"tokens_stopwords_only\"] = df[\"Text\"].apply(tokenize_only_stopwords)\n",
    "\n",
    "df[\"without_stopwords\"] = df[\"tokens_without_stopwords\"].apply(lambda x: \" \".join(x))\n",
    "df[\"stopwords_only\"] = df[\"tokens_stopwords_only\"].apply(lambda x: \" \".join(x))\n",
    "\n",
    "# Analyse: Hier die Anzahl der Wörter ohne Stoppwörter und nur mit Stoppwörtern\n",
    "df[\"count_without_stopwords\"] = df[\"tokens_without_stopwords\"].apply(len)\n",
    "df[\"count_stopwords\"] = df[\"tokens_stopwords_only\"].apply(len)\n",
    "\n",
    "# Ermittlung der fünf am häufigsten verwendeten Wörter ohne Stopwörter\n",
    "all_words_without_stopwords = [word for sublist in df[\"tokens_without_stopwords\"].tolist() for word in sublist if word.strip()]\n",
    "word_freq = Counter(all_words_without_stopwords)\n",
    "most_common_words = word_freq.most_common(7)  # Hole die 7 häufigsten, da wir möglicherweise 2 ignorieren müssen\n",
    "\n",
    "# Filtere die leeren Zeichenketten und Satzzeichen aus der meistverwendeten Liste heraus\n",
    "filtered_most_common_words = [item for item in most_common_words if item[0].strip() and not all(char in ':;,.-?!' for char in item[0])][:5]\n",
    "\n",
    "print(\"Die fünf am häufigsten verwendeten Wörter (ohne Stopwörter) sind:\")\n",
    "for word, freq in filtered_most_common_words:\n",
    "    print(f\"{word}: {freq} mal\")\n",
    "    \n",
    "# Speichern derErgebnisse in einer neuen Excel-Datei\n",
    "df.to_excel(\"Stellenausschreibungen_2022_HES-solutions.xlsx\", index=False)\n",
    "\n",
    "print(\"Analyse und Tokenisierung abgeschlossen und Ergebnisse gespeichert.\")"
   ],
   "metadata": {
    "collapsed": false,
    "ExecuteTime": {
     "end_time": "2023-09-18T12:19:17.535126Z",
     "start_time": "2023-09-18T12:18:12.623667Z"
    }
   },
   "id": "8aff3f645df9e8b6"
  }
 ],
 "metadata": {
  "kernelspec": {
   "display_name": "Python 3",
   "language": "python",
   "name": "python3"
  },
  "language_info": {
   "codemirror_mode": {
    "name": "ipython",
    "version": 2
   },
   "file_extension": ".py",
   "mimetype": "text/x-python",
   "name": "python",
   "nbconvert_exporter": "python",
   "pygments_lexer": "ipython2",
   "version": "2.7.6"
  }
 },
 "nbformat": 4,
 "nbformat_minor": 5
}
