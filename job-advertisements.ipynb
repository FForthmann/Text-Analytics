{
 "cells": [
  {
   "cell_type": "code",
   "execution_count": 9,
   "outputs": [
    {
     "name": "stdout",
     "output_type": "stream",
     "text": [
      "Requirement already satisfied: spacy in /Users/fafor/miniforge3/envs/python38/lib/python3.8/site-packages (3.5.2)\r\n",
      "Requirement already satisfied: pandas in /Users/fafor/miniforge3/envs/python38/lib/python3.8/site-packages (1.4.3)\r\n",
      "Requirement already satisfied: openpyxl in /Users/fafor/miniforge3/envs/python38/lib/python3.8/site-packages (3.1.2)\r\n",
      "Requirement already satisfied: thinc<8.2.0,>=8.1.8 in /Users/fafor/miniforge3/envs/python38/lib/python3.8/site-packages (from spacy) (8.1.9)\r\n",
      "Requirement already satisfied: catalogue<2.1.0,>=2.0.6 in /Users/fafor/miniforge3/envs/python38/lib/python3.8/site-packages (from spacy) (2.0.9)\r\n",
      "Requirement already satisfied: jinja2 in /Users/fafor/miniforge3/envs/python38/lib/python3.8/site-packages (from spacy) (3.1.2)\r\n",
      "Requirement already satisfied: preshed<3.1.0,>=3.0.2 in /Users/fafor/miniforge3/envs/python38/lib/python3.8/site-packages (from spacy) (3.0.8)\r\n",
      "Requirement already satisfied: tqdm<5.0.0,>=4.38.0 in /Users/fafor/miniforge3/envs/python38/lib/python3.8/site-packages (from spacy) (4.66.1)\r\n",
      "Requirement already satisfied: packaging>=20.0 in /Users/fafor/miniforge3/envs/python38/lib/python3.8/site-packages (from spacy) (23.1)\r\n",
      "Requirement already satisfied: wasabi<1.2.0,>=0.9.1 in /Users/fafor/miniforge3/envs/python38/lib/python3.8/site-packages (from spacy) (1.1.2)\r\n",
      "Requirement already satisfied: srsly<3.0.0,>=2.4.3 in /Users/fafor/miniforge3/envs/python38/lib/python3.8/site-packages (from spacy) (2.4.6)\r\n",
      "Requirement already satisfied: spacy-legacy<3.1.0,>=3.0.11 in /Users/fafor/miniforge3/envs/python38/lib/python3.8/site-packages (from spacy) (3.0.12)\r\n",
      "Requirement already satisfied: requests<3.0.0,>=2.13.0 in /Users/fafor/miniforge3/envs/python38/lib/python3.8/site-packages (from spacy) (2.31.0)\r\n",
      "Requirement already satisfied: pydantic!=1.8,!=1.8.1,<1.11.0,>=1.7.4 in /Users/fafor/miniforge3/envs/python38/lib/python3.8/site-packages (from spacy) (1.10.7)\r\n",
      "Requirement already satisfied: cymem<2.1.0,>=2.0.2 in /Users/fafor/miniforge3/envs/python38/lib/python3.8/site-packages (from spacy) (2.0.7)\r\n",
      "Requirement already satisfied: spacy-loggers<2.0.0,>=1.0.0 in /Users/fafor/miniforge3/envs/python38/lib/python3.8/site-packages (from spacy) (1.0.5)\r\n",
      "Requirement already satisfied: numpy>=1.15.0 in /Users/fafor/miniforge3/envs/python38/lib/python3.8/site-packages (from spacy) (1.24.2)\r\n",
      "Requirement already satisfied: typer<0.8.0,>=0.3.0 in /Users/fafor/miniforge3/envs/python38/lib/python3.8/site-packages (from spacy) (0.7.0)\r\n",
      "Requirement already satisfied: pathy>=0.10.0 in /Users/fafor/miniforge3/envs/python38/lib/python3.8/site-packages (from spacy) (0.10.2)\r\n",
      "Requirement already satisfied: murmurhash<1.1.0,>=0.28.0 in /Users/fafor/miniforge3/envs/python38/lib/python3.8/site-packages (from spacy) (1.0.9)\r\n",
      "Requirement already satisfied: setuptools in /Users/fafor/miniforge3/envs/python38/lib/python3.8/site-packages (from spacy) (67.1.0)\r\n",
      "Requirement already satisfied: smart-open<7.0.0,>=5.2.1 in /Users/fafor/miniforge3/envs/python38/lib/python3.8/site-packages (from spacy) (5.2.1)\r\n",
      "Requirement already satisfied: langcodes<4.0.0,>=3.2.0 in /Users/fafor/miniforge3/envs/python38/lib/python3.8/site-packages (from spacy) (3.3.0)\r\n",
      "Requirement already satisfied: python-dateutil>=2.8.1 in /Users/fafor/miniforge3/envs/python38/lib/python3.8/site-packages (from pandas) (2.8.2)\r\n",
      "Requirement already satisfied: pytz>=2020.1 in /Users/fafor/miniforge3/envs/python38/lib/python3.8/site-packages (from pandas) (2023.3.post1)\r\n",
      "Requirement already satisfied: et-xmlfile in /Users/fafor/miniforge3/envs/python38/lib/python3.8/site-packages (from openpyxl) (1.1.0)\r\n",
      "Requirement already satisfied: typing-extensions>=4.2.0 in /Users/fafor/miniforge3/envs/python38/lib/python3.8/site-packages (from pydantic!=1.8,!=1.8.1,<1.11.0,>=1.7.4->spacy) (4.5.0)\r\n",
      "Requirement already satisfied: six>=1.5 in /Users/fafor/miniforge3/envs/python38/lib/python3.8/site-packages (from python-dateutil>=2.8.1->pandas) (1.16.0)\r\n",
      "Requirement already satisfied: charset-normalizer<4,>=2 in /Users/fafor/miniforge3/envs/python38/lib/python3.8/site-packages (from requests<3.0.0,>=2.13.0->spacy) (2.1.1)\r\n",
      "Requirement already satisfied: certifi>=2017.4.17 in /Users/fafor/miniforge3/envs/python38/lib/python3.8/site-packages (from requests<3.0.0,>=2.13.0->spacy) (2023.7.22)\r\n",
      "Requirement already satisfied: idna<4,>=2.5 in /Users/fafor/miniforge3/envs/python38/lib/python3.8/site-packages (from requests<3.0.0,>=2.13.0->spacy) (3.4)\r\n",
      "Requirement already satisfied: urllib3<3,>=1.21.1 in /Users/fafor/miniforge3/envs/python38/lib/python3.8/site-packages (from requests<3.0.0,>=2.13.0->spacy) (1.26.15)\r\n",
      "Requirement already satisfied: blis<0.8.0,>=0.7.8 in /Users/fafor/miniforge3/envs/python38/lib/python3.8/site-packages (from thinc<8.2.0,>=8.1.8->spacy) (0.7.10)\r\n",
      "Requirement already satisfied: confection<1.0.0,>=0.0.1 in /Users/fafor/miniforge3/envs/python38/lib/python3.8/site-packages (from thinc<8.2.0,>=8.1.8->spacy) (0.1.3)\r\n",
      "Requirement already satisfied: click<9.0.0,>=7.1.1 in /Users/fafor/miniforge3/envs/python38/lib/python3.8/site-packages (from typer<0.8.0,>=0.3.0->spacy) (8.1.3)\r\n",
      "Requirement already satisfied: MarkupSafe>=2.0 in /Users/fafor/miniforge3/envs/python38/lib/python3.8/site-packages (from jinja2->spacy) (2.1.3)\r\n",
      "Collecting de-core-news-sm==3.5.0\r\n",
      "  Downloading https://github.com/explosion/spacy-models/releases/download/de_core_news_sm-3.5.0/de_core_news_sm-3.5.0-py3-none-any.whl (14.6 MB)\r\n",
      "\u001B[2K     \u001B[90m━━━━━━━━━━━━━━━━━━━━━━━━━━━━━━━━━━━━━━━━\u001B[0m \u001B[32m14.6/14.6 MB\u001B[0m \u001B[31m11.3 MB/s\u001B[0m eta \u001B[36m0:00:00\u001B[0m00:01\u001B[0m00:01\u001B[0m\r\n",
      "\u001B[?25hRequirement already satisfied: spacy<3.6.0,>=3.5.0 in /Users/fafor/miniforge3/envs/python38/lib/python3.8/site-packages (from de-core-news-sm==3.5.0) (3.5.2)\r\n",
      "Requirement already satisfied: tqdm<5.0.0,>=4.38.0 in /Users/fafor/miniforge3/envs/python38/lib/python3.8/site-packages (from spacy<3.6.0,>=3.5.0->de-core-news-sm==3.5.0) (4.66.1)\r\n",
      "Requirement already satisfied: typer<0.8.0,>=0.3.0 in /Users/fafor/miniforge3/envs/python38/lib/python3.8/site-packages (from spacy<3.6.0,>=3.5.0->de-core-news-sm==3.5.0) (0.7.0)\r\n",
      "Requirement already satisfied: pathy>=0.10.0 in /Users/fafor/miniforge3/envs/python38/lib/python3.8/site-packages (from spacy<3.6.0,>=3.5.0->de-core-news-sm==3.5.0) (0.10.2)\r\n",
      "Requirement already satisfied: requests<3.0.0,>=2.13.0 in /Users/fafor/miniforge3/envs/python38/lib/python3.8/site-packages (from spacy<3.6.0,>=3.5.0->de-core-news-sm==3.5.0) (2.31.0)\r\n",
      "Requirement already satisfied: srsly<3.0.0,>=2.4.3 in /Users/fafor/miniforge3/envs/python38/lib/python3.8/site-packages (from spacy<3.6.0,>=3.5.0->de-core-news-sm==3.5.0) (2.4.6)\r\n",
      "Requirement already satisfied: spacy-legacy<3.1.0,>=3.0.11 in /Users/fafor/miniforge3/envs/python38/lib/python3.8/site-packages (from spacy<3.6.0,>=3.5.0->de-core-news-sm==3.5.0) (3.0.12)\r\n",
      "Requirement already satisfied: numpy>=1.15.0 in /Users/fafor/miniforge3/envs/python38/lib/python3.8/site-packages (from spacy<3.6.0,>=3.5.0->de-core-news-sm==3.5.0) (1.24.2)\r\n",
      "Requirement already satisfied: preshed<3.1.0,>=3.0.2 in /Users/fafor/miniforge3/envs/python38/lib/python3.8/site-packages (from spacy<3.6.0,>=3.5.0->de-core-news-sm==3.5.0) (3.0.8)\r\n",
      "Requirement already satisfied: catalogue<2.1.0,>=2.0.6 in /Users/fafor/miniforge3/envs/python38/lib/python3.8/site-packages (from spacy<3.6.0,>=3.5.0->de-core-news-sm==3.5.0) (2.0.9)\r\n",
      "Requirement already satisfied: thinc<8.2.0,>=8.1.8 in /Users/fafor/miniforge3/envs/python38/lib/python3.8/site-packages (from spacy<3.6.0,>=3.5.0->de-core-news-sm==3.5.0) (8.1.9)\r\n",
      "Requirement already satisfied: smart-open<7.0.0,>=5.2.1 in /Users/fafor/miniforge3/envs/python38/lib/python3.8/site-packages (from spacy<3.6.0,>=3.5.0->de-core-news-sm==3.5.0) (5.2.1)\r\n",
      "Requirement already satisfied: pydantic!=1.8,!=1.8.1,<1.11.0,>=1.7.4 in /Users/fafor/miniforge3/envs/python38/lib/python3.8/site-packages (from spacy<3.6.0,>=3.5.0->de-core-news-sm==3.5.0) (1.10.7)\r\n",
      "Requirement already satisfied: cymem<2.1.0,>=2.0.2 in /Users/fafor/miniforge3/envs/python38/lib/python3.8/site-packages (from spacy<3.6.0,>=3.5.0->de-core-news-sm==3.5.0) (2.0.7)\r\n",
      "Requirement already satisfied: langcodes<4.0.0,>=3.2.0 in /Users/fafor/miniforge3/envs/python38/lib/python3.8/site-packages (from spacy<3.6.0,>=3.5.0->de-core-news-sm==3.5.0) (3.3.0)\r\n",
      "Requirement already satisfied: packaging>=20.0 in /Users/fafor/miniforge3/envs/python38/lib/python3.8/site-packages (from spacy<3.6.0,>=3.5.0->de-core-news-sm==3.5.0) (23.1)\r\n",
      "Requirement already satisfied: murmurhash<1.1.0,>=0.28.0 in /Users/fafor/miniforge3/envs/python38/lib/python3.8/site-packages (from spacy<3.6.0,>=3.5.0->de-core-news-sm==3.5.0) (1.0.9)\r\n",
      "Requirement already satisfied: setuptools in /Users/fafor/miniforge3/envs/python38/lib/python3.8/site-packages (from spacy<3.6.0,>=3.5.0->de-core-news-sm==3.5.0) (67.1.0)\r\n",
      "Requirement already satisfied: wasabi<1.2.0,>=0.9.1 in /Users/fafor/miniforge3/envs/python38/lib/python3.8/site-packages (from spacy<3.6.0,>=3.5.0->de-core-news-sm==3.5.0) (1.1.2)\r\n",
      "Requirement already satisfied: jinja2 in /Users/fafor/miniforge3/envs/python38/lib/python3.8/site-packages (from spacy<3.6.0,>=3.5.0->de-core-news-sm==3.5.0) (3.1.2)\r\n",
      "Requirement already satisfied: spacy-loggers<2.0.0,>=1.0.0 in /Users/fafor/miniforge3/envs/python38/lib/python3.8/site-packages (from spacy<3.6.0,>=3.5.0->de-core-news-sm==3.5.0) (1.0.5)\r\n",
      "Requirement already satisfied: typing-extensions>=4.2.0 in /Users/fafor/miniforge3/envs/python38/lib/python3.8/site-packages (from pydantic!=1.8,!=1.8.1,<1.11.0,>=1.7.4->spacy<3.6.0,>=3.5.0->de-core-news-sm==3.5.0) (4.5.0)\r\n",
      "Requirement already satisfied: urllib3<3,>=1.21.1 in /Users/fafor/miniforge3/envs/python38/lib/python3.8/site-packages (from requests<3.0.0,>=2.13.0->spacy<3.6.0,>=3.5.0->de-core-news-sm==3.5.0) (1.26.15)\r\n",
      "Requirement already satisfied: charset-normalizer<4,>=2 in /Users/fafor/miniforge3/envs/python38/lib/python3.8/site-packages (from requests<3.0.0,>=2.13.0->spacy<3.6.0,>=3.5.0->de-core-news-sm==3.5.0) (2.1.1)\r\n",
      "Requirement already satisfied: idna<4,>=2.5 in /Users/fafor/miniforge3/envs/python38/lib/python3.8/site-packages (from requests<3.0.0,>=2.13.0->spacy<3.6.0,>=3.5.0->de-core-news-sm==3.5.0) (3.4)\r\n",
      "Requirement already satisfied: certifi>=2017.4.17 in /Users/fafor/miniforge3/envs/python38/lib/python3.8/site-packages (from requests<3.0.0,>=2.13.0->spacy<3.6.0,>=3.5.0->de-core-news-sm==3.5.0) (2023.7.22)\r\n",
      "Requirement already satisfied: confection<1.0.0,>=0.0.1 in /Users/fafor/miniforge3/envs/python38/lib/python3.8/site-packages (from thinc<8.2.0,>=8.1.8->spacy<3.6.0,>=3.5.0->de-core-news-sm==3.5.0) (0.1.3)\r\n",
      "Requirement already satisfied: blis<0.8.0,>=0.7.8 in /Users/fafor/miniforge3/envs/python38/lib/python3.8/site-packages (from thinc<8.2.0,>=8.1.8->spacy<3.6.0,>=3.5.0->de-core-news-sm==3.5.0) (0.7.10)\r\n",
      "Requirement already satisfied: click<9.0.0,>=7.1.1 in /Users/fafor/miniforge3/envs/python38/lib/python3.8/site-packages (from typer<0.8.0,>=0.3.0->spacy<3.6.0,>=3.5.0->de-core-news-sm==3.5.0) (8.1.3)\r\n",
      "Requirement already satisfied: MarkupSafe>=2.0 in /Users/fafor/miniforge3/envs/python38/lib/python3.8/site-packages (from jinja2->spacy<3.6.0,>=3.5.0->de-core-news-sm==3.5.0) (2.1.3)\r\n",
      "Installing collected packages: de-core-news-sm\r\n",
      "Successfully installed de-core-news-sm-3.5.0\r\n",
      "\u001B[38;5;2m✔ Download and installation successful\u001B[0m\r\n",
      "You can now load the package via spacy.load('de_core_news_sm')\r\n"
     ]
    }
   ],
   "source": [
    "# Downloading necessary dependencies\n",
    "! pip install spacy pandas openpyxl\n",
    "! python -m spacy download de_core_news_sm"
   ],
   "metadata": {
    "collapsed": false,
    "ExecuteTime": {
     "end_time": "2023-09-18T11:49:47.066757Z",
     "start_time": "2023-09-18T11:49:36.971511Z"
    }
   },
   "id": "47d4ece9567fb303"
  },
  {
   "cell_type": "code",
   "execution_count": 17,
   "outputs": [],
   "source": [
    "import spacy\n",
    "import pandas as pd\n",
    "\n",
    "# Excel-Datei lesen\n",
    "df = pd.read_excel(r'Stellenausschreibungen_2022_HES.xlsx')\n"
   ],
   "metadata": {
    "collapsed": false,
    "ExecuteTime": {
     "end_time": "2023-09-18T11:54:43.246503Z",
     "start_time": "2023-09-18T11:54:42.649900Z"
    }
   },
   "id": "9d2006fd45a191e0"
  },
  {
   "cell_type": "code",
   "execution_count": 18,
   "outputs": [
    {
     "data": {
      "text/plain": "                           count unique  \\\nTitel                        626    563   \nUnternehmen                  626    503   \nText                         626    623   \nUnternehmen - 1. Buchstabe   626     30   \n6 Gruppen                      6      6   \n5 Gruppen                      4      4   \n\n                                                                          top  \\\nTitel                                                    Data Analyst (m/w/d)   \nUnternehmen                                                     Volkswagen AG   \nText                        Stellenbeschreibung\\nAnstellungsart\\nVollzeit\\...   \nUnternehmen - 1. Buchstabe                                                  A   \n6 Gruppen                                                         Ende Teil 1   \n5 Gruppen                                                         Ende Teil 1   \n\n                           freq  \nTitel                        18  \nUnternehmen                   5  \nText                          2  \nUnternehmen - 1. Buchstabe   73  \n6 Gruppen                     1  \n5 Gruppen                     1  ",
      "text/html": "<div>\n<style scoped>\n    .dataframe tbody tr th:only-of-type {\n        vertical-align: middle;\n    }\n\n    .dataframe tbody tr th {\n        vertical-align: top;\n    }\n\n    .dataframe thead th {\n        text-align: right;\n    }\n</style>\n<table border=\"1\" class=\"dataframe\">\n  <thead>\n    <tr style=\"text-align: right;\">\n      <th></th>\n      <th>count</th>\n      <th>unique</th>\n      <th>top</th>\n      <th>freq</th>\n    </tr>\n  </thead>\n  <tbody>\n    <tr>\n      <th>Titel</th>\n      <td>626</td>\n      <td>563</td>\n      <td>Data Analyst (m/w/d)</td>\n      <td>18</td>\n    </tr>\n    <tr>\n      <th>Unternehmen</th>\n      <td>626</td>\n      <td>503</td>\n      <td>Volkswagen AG</td>\n      <td>5</td>\n    </tr>\n    <tr>\n      <th>Text</th>\n      <td>626</td>\n      <td>623</td>\n      <td>Stellenbeschreibung\\nAnstellungsart\\nVollzeit\\...</td>\n      <td>2</td>\n    </tr>\n    <tr>\n      <th>Unternehmen - 1. Buchstabe</th>\n      <td>626</td>\n      <td>30</td>\n      <td>A</td>\n      <td>73</td>\n    </tr>\n    <tr>\n      <th>6 Gruppen</th>\n      <td>6</td>\n      <td>6</td>\n      <td>Ende Teil 1</td>\n      <td>1</td>\n    </tr>\n    <tr>\n      <th>5 Gruppen</th>\n      <td>4</td>\n      <td>4</td>\n      <td>Ende Teil 1</td>\n      <td>1</td>\n    </tr>\n  </tbody>\n</table>\n</div>"
     },
     "execution_count": 18,
     "metadata": {},
     "output_type": "execute_result"
    }
   ],
   "source": [
    "df.describe().T"
   ],
   "metadata": {
    "collapsed": false,
    "ExecuteTime": {
     "end_time": "2023-09-18T11:54:45.797914Z",
     "start_time": "2023-09-18T11:54:45.765149Z"
    }
   },
   "id": "e945161166880140"
  },
  {
   "cell_type": "code",
   "execution_count": 20,
   "outputs": [
    {
     "data": {
      "text/plain": "<bound method NDFrame.head of                                                  Titel  \\\n0    (Junior) Controller - Financial Planning & Ana...   \n1                           (Junior) Sales Ops Analyst   \n2                         Web Analytics Expert (m/w/d)   \n3              Data Analysis / Datenauswertung (m/w/d)   \n4         Lead Data Analyst/Consultant (m/w/d), Berlin   \n..                                                 ...   \n621  (Senior) Data Analyst / Data Manager (w/m/d) C...   \n622           Senior Consultant Data Analytics (m/w/d)   \n623     (Senior) Business Analyst (m/w/d) Credit Lines   \n624              Business Analyst (m/w/d) Credit Lines   \n625                   Service Business Analyst (m/w/d)   \n\n                   Unternehmen  \\\n0                         1NCE   \n1                         1NCE   \n2                  21TORR GmbH   \n3    3P Services GmbH & Co. KG   \n4     9 friendly white rabbits   \n..                         ...   \n621         ZEIT Verlagsgruppe   \n622                         ZF   \n623  Zurich Gruppe Deutschland   \n624           Zurich Insurance   \n625     Оконная Компания Олимп   \n\n                                                  Text  \\\n0    Stellenbeschreibung\\nAnstellungsart\\nVollzeit\\...   \n1    Stellenbeschreibung\\nAnstellungsart\\nVollzeit\\...   \n2    Stellenbeschreibung\\nAnstellungsart\\nVollzeit\\...   \n3    Stellenbeschreibung\\nAnstellungsart\\nVollzeit\\...   \n4    Stellenbeschreibung\\nAnstellungsart\\nVollzeit\\...   \n..                                                 ...   \n621  Stellenbeschreibung\\nAnstellungsart\\nFestanste...   \n622  What's Next? Join ZF!\\nZF ist ein weltweit agi...   \n623  Stellenbeschreibung\\nAnstellungsart\\nVollzeit\\...   \n624  Stellenbeschreibung\\nAnstellungsart\\nVollzeit\\...   \n625  Stellenbeschreibung\\nAnstellungsart\\nFestanste...   \n\n    Unternehmen - 1. Buchstabe    6 Gruppen 5 Gruppen  \\\n0                            1          NaN       NaN   \n1                            1          NaN       NaN   \n2                            2          NaN       NaN   \n3                            3          NaN       NaN   \n4                            9          NaN       NaN   \n..                         ...          ...       ...   \n621                          Z          NaN       NaN   \n622                          Z          NaN       NaN   \n623                          Z          NaN       NaN   \n624                          Z  Ende Teil 6       NaN   \n625                          О          NaN       NaN   \n\n                                     without_stopwords  \\\n0    Stellenbeschreibung Anstellungsart Vollzeit Vo...   \n1    Stellenbeschreibung Anstellungsart Vollzeit Vo...   \n2    Stellenbeschreibung Anstellungsart Vollzeit Ho...   \n3    Stellenbeschreibung Anstellungsart Vollzeit Fe...   \n4    Stellenbeschreibung Anstellungsart Vollzeit Vo...   \n..                                                 ...   \n621  Stellenbeschreibung Anstellungsart Festanstell...   \n622  What's Next? Join ZF! ZF weltweit agierender T...   \n623  Stellenbeschreibung Anstellungsart Vollzeit Te...   \n624  Stellenbeschreibung Anstellungsart Vollzeit Te...   \n625  Stellenbeschreibung Anstellungsart Festanstell...   \n\n                                        stopwords_only  \\\n0    Deine Du und und Du bei der und Du die des und...   \n1    Deine Du mit und um die zu und die zu Du die d...   \n2    Wo andere etwas zu Du mit und Wo andere vor de...   \n3    ZUR WIR WIR mit der von und wie Die und und Ei...   \n4    Du bist im zu und hast bereits bei mit und dab...   \n..                                                 ...   \n621  Der Die der und der sich in vielen in DIE ZEIT...   \n622  ist ein der für und und damit die der In den v...   \n623  möglich Bist du mit dem Besten zu Bei wir Um d...   \n624  möglich Bist du mit dem Besten zu Bei wir Um d...   \n625  Die alle in mit dem dass der sein seines Zu de...   \n\n     count_without_stopwords  count_stopwords  \n0                        214              159  \n1                        249              200  \n2                        174              129  \n3                        150               67  \n4                        384              255  \n..                       ...              ...  \n621                      280              218  \n622                      191              102  \n623                      401              320  \n624                      402              328  \n625                      229              135  \n\n[626 rows x 10 columns]>"
     },
     "execution_count": 20,
     "metadata": {},
     "output_type": "execute_result"
    }
   ],
   "source": [
    "df.head"
   ],
   "metadata": {
    "collapsed": false,
    "ExecuteTime": {
     "end_time": "2023-09-18T11:57:02.932326Z",
     "start_time": "2023-09-18T11:57:02.928814Z"
    }
   },
   "id": "9f5a9df141daea35"
  },
  {
   "cell_type": "code",
   "execution_count": 23,
   "outputs": [],
   "source": [
    "# Lade das deutsche Spacy-Modell und die Stoppwörter-Liste\n",
    "nlp = spacy.load(\"de_core_news_sm\")\n",
    "stopwords = nlp.Defaults.stop_words\n",
    "\n",
    "# Methoden zur Tokenisierung mit und ohne stopwords\n",
    "def tokenize_text(text):\n",
    "    doc = nlp(text)\n",
    "    return [token.text for token in doc]\n",
    "\n",
    "def tokenize_without_stopwords(text):\n",
    "    doc = nlp(text)\n",
    "    return [token.text for token in doc if not token.is_stop]\n",
    "\n",
    "def tokenize_only_stopwords(text):\n",
    "    doc = nlp(text)\n",
    "    return [token.text for token in doc if token.is_stop]"
   ],
   "metadata": {
    "collapsed": false,
    "ExecuteTime": {
     "end_time": "2023-09-18T12:00:48.585060Z",
     "start_time": "2023-09-18T12:00:48.580610Z"
    }
   },
   "id": "cc5dc46126ce9fd7"
  },
  {
   "cell_type": "code",
   "execution_count": 24,
   "outputs": [
    {
     "ename": "KeyboardInterrupt",
     "evalue": "",
     "output_type": "error",
     "traceback": [
      "\u001B[0;31m---------------------------------------------------------------------------\u001B[0m",
      "\u001B[0;31mKeyboardInterrupt\u001B[0m                         Traceback (most recent call last)",
      "Cell \u001B[0;32mIn[24], line 3\u001B[0m\n\u001B[1;32m      1\u001B[0m \u001B[38;5;66;03m# Analyse der Spalte \"Text\"\u001B[39;00m\n\u001B[1;32m      2\u001B[0m df[\u001B[38;5;124m\"\u001B[39m\u001B[38;5;124mtokens\u001B[39m\u001B[38;5;124m\"\u001B[39m] \u001B[38;5;241m=\u001B[39m df[\u001B[38;5;124m\"\u001B[39m\u001B[38;5;124mText\u001B[39m\u001B[38;5;124m\"\u001B[39m]\u001B[38;5;241m.\u001B[39mapply(tokenize_text)\n\u001B[0;32m----> 3\u001B[0m df[\u001B[38;5;124m\"\u001B[39m\u001B[38;5;124mtokens_without_stopwords\u001B[39m\u001B[38;5;124m\"\u001B[39m] \u001B[38;5;241m=\u001B[39m \u001B[43mdf\u001B[49m\u001B[43m[\u001B[49m\u001B[38;5;124;43m\"\u001B[39;49m\u001B[38;5;124;43mText\u001B[39;49m\u001B[38;5;124;43m\"\u001B[39;49m\u001B[43m]\u001B[49m\u001B[38;5;241;43m.\u001B[39;49m\u001B[43mapply\u001B[49m\u001B[43m(\u001B[49m\u001B[43mtokenize_without_stopwords\u001B[49m\u001B[43m)\u001B[49m\n\u001B[1;32m      4\u001B[0m df[\u001B[38;5;124m\"\u001B[39m\u001B[38;5;124mtokens_stopwords_only\u001B[39m\u001B[38;5;124m\"\u001B[39m] \u001B[38;5;241m=\u001B[39m df[\u001B[38;5;124m\"\u001B[39m\u001B[38;5;124mText\u001B[39m\u001B[38;5;124m\"\u001B[39m]\u001B[38;5;241m.\u001B[39mapply(tokenize_only_stopwords)\n\u001B[1;32m      6\u001B[0m df[\u001B[38;5;124m\"\u001B[39m\u001B[38;5;124mwithout_stopwords\u001B[39m\u001B[38;5;124m\"\u001B[39m] \u001B[38;5;241m=\u001B[39m df[\u001B[38;5;124m\"\u001B[39m\u001B[38;5;124mtokens_without_stopwords\u001B[39m\u001B[38;5;124m\"\u001B[39m]\u001B[38;5;241m.\u001B[39mapply(\u001B[38;5;28;01mlambda\u001B[39;00m x: \u001B[38;5;124m\"\u001B[39m\u001B[38;5;124m \u001B[39m\u001B[38;5;124m\"\u001B[39m\u001B[38;5;241m.\u001B[39mjoin(x))\n",
      "File \u001B[0;32m~/miniforge3/envs/python38/lib/python3.8/site-packages/pandas/core/series.py:4433\u001B[0m, in \u001B[0;36mSeries.apply\u001B[0;34m(self, func, convert_dtype, args, **kwargs)\u001B[0m\n\u001B[1;32m   4323\u001B[0m \u001B[38;5;28;01mdef\u001B[39;00m \u001B[38;5;21mapply\u001B[39m(\n\u001B[1;32m   4324\u001B[0m     \u001B[38;5;28mself\u001B[39m,\n\u001B[1;32m   4325\u001B[0m     func: AggFuncType,\n\u001B[0;32m   (...)\u001B[0m\n\u001B[1;32m   4328\u001B[0m     \u001B[38;5;241m*\u001B[39m\u001B[38;5;241m*\u001B[39mkwargs,\n\u001B[1;32m   4329\u001B[0m ) \u001B[38;5;241m-\u001B[39m\u001B[38;5;241m>\u001B[39m DataFrame \u001B[38;5;241m|\u001B[39m Series:\n\u001B[1;32m   4330\u001B[0m \u001B[38;5;250m    \u001B[39m\u001B[38;5;124;03m\"\"\"\u001B[39;00m\n\u001B[1;32m   4331\u001B[0m \u001B[38;5;124;03m    Invoke function on values of Series.\u001B[39;00m\n\u001B[1;32m   4332\u001B[0m \n\u001B[0;32m   (...)\u001B[0m\n\u001B[1;32m   4431\u001B[0m \u001B[38;5;124;03m    dtype: float64\u001B[39;00m\n\u001B[1;32m   4432\u001B[0m \u001B[38;5;124;03m    \"\"\"\u001B[39;00m\n\u001B[0;32m-> 4433\u001B[0m     \u001B[38;5;28;01mreturn\u001B[39;00m \u001B[43mSeriesApply\u001B[49m\u001B[43m(\u001B[49m\u001B[38;5;28;43mself\u001B[39;49m\u001B[43m,\u001B[49m\u001B[43m \u001B[49m\u001B[43mfunc\u001B[49m\u001B[43m,\u001B[49m\u001B[43m \u001B[49m\u001B[43mconvert_dtype\u001B[49m\u001B[43m,\u001B[49m\u001B[43m \u001B[49m\u001B[43margs\u001B[49m\u001B[43m,\u001B[49m\u001B[43m \u001B[49m\u001B[43mkwargs\u001B[49m\u001B[43m)\u001B[49m\u001B[38;5;241;43m.\u001B[39;49m\u001B[43mapply\u001B[49m\u001B[43m(\u001B[49m\u001B[43m)\u001B[49m\n",
      "File \u001B[0;32m~/miniforge3/envs/python38/lib/python3.8/site-packages/pandas/core/apply.py:1088\u001B[0m, in \u001B[0;36mSeriesApply.apply\u001B[0;34m(self)\u001B[0m\n\u001B[1;32m   1084\u001B[0m \u001B[38;5;28;01mif\u001B[39;00m \u001B[38;5;28misinstance\u001B[39m(\u001B[38;5;28mself\u001B[39m\u001B[38;5;241m.\u001B[39mf, \u001B[38;5;28mstr\u001B[39m):\n\u001B[1;32m   1085\u001B[0m     \u001B[38;5;66;03m# if we are a string, try to dispatch\u001B[39;00m\n\u001B[1;32m   1086\u001B[0m     \u001B[38;5;28;01mreturn\u001B[39;00m \u001B[38;5;28mself\u001B[39m\u001B[38;5;241m.\u001B[39mapply_str()\n\u001B[0;32m-> 1088\u001B[0m \u001B[38;5;28;01mreturn\u001B[39;00m \u001B[38;5;28;43mself\u001B[39;49m\u001B[38;5;241;43m.\u001B[39;49m\u001B[43mapply_standard\u001B[49m\u001B[43m(\u001B[49m\u001B[43m)\u001B[49m\n",
      "File \u001B[0;32m~/miniforge3/envs/python38/lib/python3.8/site-packages/pandas/core/apply.py:1143\u001B[0m, in \u001B[0;36mSeriesApply.apply_standard\u001B[0;34m(self)\u001B[0m\n\u001B[1;32m   1137\u001B[0m         values \u001B[38;5;241m=\u001B[39m obj\u001B[38;5;241m.\u001B[39mastype(\u001B[38;5;28mobject\u001B[39m)\u001B[38;5;241m.\u001B[39m_values\n\u001B[1;32m   1138\u001B[0m         \u001B[38;5;66;03m# error: Argument 2 to \"map_infer\" has incompatible type\u001B[39;00m\n\u001B[1;32m   1139\u001B[0m         \u001B[38;5;66;03m# \"Union[Callable[..., Any], str, List[Union[Callable[..., Any], str]],\u001B[39;00m\n\u001B[1;32m   1140\u001B[0m         \u001B[38;5;66;03m# Dict[Hashable, Union[Union[Callable[..., Any], str],\u001B[39;00m\n\u001B[1;32m   1141\u001B[0m         \u001B[38;5;66;03m# List[Union[Callable[..., Any], str]]]]]\"; expected\u001B[39;00m\n\u001B[1;32m   1142\u001B[0m         \u001B[38;5;66;03m# \"Callable[[Any], Any]\"\u001B[39;00m\n\u001B[0;32m-> 1143\u001B[0m         mapped \u001B[38;5;241m=\u001B[39m \u001B[43mlib\u001B[49m\u001B[38;5;241;43m.\u001B[39;49m\u001B[43mmap_infer\u001B[49m\u001B[43m(\u001B[49m\n\u001B[1;32m   1144\u001B[0m \u001B[43m            \u001B[49m\u001B[43mvalues\u001B[49m\u001B[43m,\u001B[49m\n\u001B[1;32m   1145\u001B[0m \u001B[43m            \u001B[49m\u001B[43mf\u001B[49m\u001B[43m,\u001B[49m\u001B[43m  \u001B[49m\u001B[38;5;66;43;03m# type: ignore[arg-type]\u001B[39;49;00m\n\u001B[1;32m   1146\u001B[0m \u001B[43m            \u001B[49m\u001B[43mconvert\u001B[49m\u001B[38;5;241;43m=\u001B[39;49m\u001B[38;5;28;43mself\u001B[39;49m\u001B[38;5;241;43m.\u001B[39;49m\u001B[43mconvert_dtype\u001B[49m\u001B[43m,\u001B[49m\n\u001B[1;32m   1147\u001B[0m \u001B[43m        \u001B[49m\u001B[43m)\u001B[49m\n\u001B[1;32m   1149\u001B[0m \u001B[38;5;28;01mif\u001B[39;00m \u001B[38;5;28mlen\u001B[39m(mapped) \u001B[38;5;129;01mand\u001B[39;00m \u001B[38;5;28misinstance\u001B[39m(mapped[\u001B[38;5;241m0\u001B[39m], ABCSeries):\n\u001B[1;32m   1150\u001B[0m     \u001B[38;5;66;03m# GH#43986 Need to do list(mapped) in order to get treated as nested\u001B[39;00m\n\u001B[1;32m   1151\u001B[0m     \u001B[38;5;66;03m#  See also GH#25959 regarding EA support\u001B[39;00m\n\u001B[1;32m   1152\u001B[0m     \u001B[38;5;28;01mreturn\u001B[39;00m obj\u001B[38;5;241m.\u001B[39m_constructor_expanddim(\u001B[38;5;28mlist\u001B[39m(mapped), index\u001B[38;5;241m=\u001B[39mobj\u001B[38;5;241m.\u001B[39mindex)\n",
      "File \u001B[0;32m~/miniforge3/envs/python38/lib/python3.8/site-packages/pandas/_libs/lib.pyx:2870\u001B[0m, in \u001B[0;36mpandas._libs.lib.map_infer\u001B[0;34m()\u001B[0m\n",
      "Cell \u001B[0;32mIn[23], line 6\u001B[0m, in \u001B[0;36mtokenize_without_stopwords\u001B[0;34m(text)\u001B[0m\n\u001B[1;32m      5\u001B[0m \u001B[38;5;28;01mdef\u001B[39;00m \u001B[38;5;21mtokenize_without_stopwords\u001B[39m(text):\n\u001B[0;32m----> 6\u001B[0m     doc \u001B[38;5;241m=\u001B[39m \u001B[43mnlp\u001B[49m\u001B[43m(\u001B[49m\u001B[43mtext\u001B[49m\u001B[43m)\u001B[49m\n\u001B[1;32m      7\u001B[0m     \u001B[38;5;28;01mreturn\u001B[39;00m [token\u001B[38;5;241m.\u001B[39mtext \u001B[38;5;28;01mfor\u001B[39;00m token \u001B[38;5;129;01min\u001B[39;00m doc \u001B[38;5;28;01mif\u001B[39;00m \u001B[38;5;129;01mnot\u001B[39;00m token\u001B[38;5;241m.\u001B[39mis_stop]\n",
      "File \u001B[0;32m~/miniforge3/envs/python38/lib/python3.8/site-packages/spacy/language.py:1011\u001B[0m, in \u001B[0;36mLanguage.__call__\u001B[0;34m(self, text, disable, component_cfg)\u001B[0m\n\u001B[1;32m   1009\u001B[0m     error_handler \u001B[38;5;241m=\u001B[39m proc\u001B[38;5;241m.\u001B[39mget_error_handler()\n\u001B[1;32m   1010\u001B[0m \u001B[38;5;28;01mtry\u001B[39;00m:\n\u001B[0;32m-> 1011\u001B[0m     doc \u001B[38;5;241m=\u001B[39m \u001B[43mproc\u001B[49m\u001B[43m(\u001B[49m\u001B[43mdoc\u001B[49m\u001B[43m,\u001B[49m\u001B[43m \u001B[49m\u001B[38;5;241;43m*\u001B[39;49m\u001B[38;5;241;43m*\u001B[39;49m\u001B[43mcomponent_cfg\u001B[49m\u001B[38;5;241;43m.\u001B[39;49m\u001B[43mget\u001B[49m\u001B[43m(\u001B[49m\u001B[43mname\u001B[49m\u001B[43m,\u001B[49m\u001B[43m \u001B[49m\u001B[43m{\u001B[49m\u001B[43m}\u001B[49m\u001B[43m)\u001B[49m\u001B[43m)\u001B[49m  \u001B[38;5;66;03m# type: ignore[call-arg]\u001B[39;00m\n\u001B[1;32m   1012\u001B[0m \u001B[38;5;28;01mexcept\u001B[39;00m \u001B[38;5;167;01mKeyError\u001B[39;00m \u001B[38;5;28;01mas\u001B[39;00m e:\n\u001B[1;32m   1013\u001B[0m     \u001B[38;5;66;03m# This typically happens if a component is not initialized\u001B[39;00m\n\u001B[1;32m   1014\u001B[0m     \u001B[38;5;28;01mraise\u001B[39;00m \u001B[38;5;167;01mValueError\u001B[39;00m(Errors\u001B[38;5;241m.\u001B[39mE109\u001B[38;5;241m.\u001B[39mformat(name\u001B[38;5;241m=\u001B[39mname)) \u001B[38;5;28;01mfrom\u001B[39;00m \u001B[38;5;21;01me\u001B[39;00m\n",
      "File \u001B[0;32m~/miniforge3/envs/python38/lib/python3.8/site-packages/spacy/pipeline/trainable_pipe.pyx:52\u001B[0m, in \u001B[0;36mspacy.pipeline.trainable_pipe.TrainablePipe.__call__\u001B[0;34m()\u001B[0m\n",
      "File \u001B[0;32m~/miniforge3/envs/python38/lib/python3.8/site-packages/spacy/pipeline/transition_parser.pyx:253\u001B[0m, in \u001B[0;36mspacy.pipeline.transition_parser.Parser.predict\u001B[0;34m()\u001B[0m\n",
      "File \u001B[0;32m~/miniforge3/envs/python38/lib/python3.8/site-packages/spacy/pipeline/transition_parser.pyx:274\u001B[0m, in \u001B[0;36mspacy.pipeline.transition_parser.Parser.greedy_parse\u001B[0;34m()\u001B[0m\n",
      "File \u001B[0;32m~/miniforge3/envs/python38/lib/python3.8/site-packages/thinc/model.py:315\u001B[0m, in \u001B[0;36mModel.predict\u001B[0;34m(self, X)\u001B[0m\n\u001B[1;32m    311\u001B[0m \u001B[38;5;28;01mdef\u001B[39;00m \u001B[38;5;21mpredict\u001B[39m(\u001B[38;5;28mself\u001B[39m, X: InT) \u001B[38;5;241m-\u001B[39m\u001B[38;5;241m>\u001B[39m OutT:\n\u001B[1;32m    312\u001B[0m \u001B[38;5;250m    \u001B[39m\u001B[38;5;124;03m\"\"\"Call the model's `forward` function with `is_train=False`, and return\u001B[39;00m\n\u001B[1;32m    313\u001B[0m \u001B[38;5;124;03m    only the output, instead of the `(output, callback)` tuple.\u001B[39;00m\n\u001B[1;32m    314\u001B[0m \u001B[38;5;124;03m    \"\"\"\u001B[39;00m\n\u001B[0;32m--> 315\u001B[0m     \u001B[38;5;28;01mreturn\u001B[39;00m \u001B[38;5;28;43mself\u001B[39;49m\u001B[38;5;241;43m.\u001B[39;49m\u001B[43m_func\u001B[49m\u001B[43m(\u001B[49m\u001B[38;5;28;43mself\u001B[39;49m\u001B[43m,\u001B[49m\u001B[43m \u001B[49m\u001B[43mX\u001B[49m\u001B[43m,\u001B[49m\u001B[43m \u001B[49m\u001B[43mis_train\u001B[49m\u001B[38;5;241;43m=\u001B[39;49m\u001B[38;5;28;43;01mFalse\u001B[39;49;00m\u001B[43m)\u001B[49m[\u001B[38;5;241m0\u001B[39m]\n",
      "File \u001B[0;32m~/miniforge3/envs/python38/lib/python3.8/site-packages/spacy/ml/tb_framework.py:33\u001B[0m, in \u001B[0;36mforward\u001B[0;34m(model, X, is_train)\u001B[0m\n\u001B[1;32m     32\u001B[0m \u001B[38;5;28;01mdef\u001B[39;00m \u001B[38;5;21mforward\u001B[39m(model, X, is_train):\n\u001B[0;32m---> 33\u001B[0m     step_model \u001B[38;5;241m=\u001B[39m \u001B[43mParserStepModel\u001B[49m\u001B[43m(\u001B[49m\n\u001B[1;32m     34\u001B[0m \u001B[43m        \u001B[49m\u001B[43mX\u001B[49m\u001B[43m,\u001B[49m\n\u001B[1;32m     35\u001B[0m \u001B[43m        \u001B[49m\u001B[43mmodel\u001B[49m\u001B[38;5;241;43m.\u001B[39;49m\u001B[43mlayers\u001B[49m\u001B[43m,\u001B[49m\n\u001B[1;32m     36\u001B[0m \u001B[43m        \u001B[49m\u001B[43munseen_classes\u001B[49m\u001B[38;5;241;43m=\u001B[39;49m\u001B[43mmodel\u001B[49m\u001B[38;5;241;43m.\u001B[39;49m\u001B[43mattrs\u001B[49m\u001B[43m[\u001B[49m\u001B[38;5;124;43m\"\u001B[39;49m\u001B[38;5;124;43munseen_classes\u001B[39;49m\u001B[38;5;124;43m\"\u001B[39;49m\u001B[43m]\u001B[49m\u001B[43m,\u001B[49m\n\u001B[1;32m     37\u001B[0m \u001B[43m        \u001B[49m\u001B[43mtrain\u001B[49m\u001B[38;5;241;43m=\u001B[39;49m\u001B[43mis_train\u001B[49m\u001B[43m,\u001B[49m\n\u001B[1;32m     38\u001B[0m \u001B[43m        \u001B[49m\u001B[43mhas_upper\u001B[49m\u001B[38;5;241;43m=\u001B[39;49m\u001B[43mmodel\u001B[49m\u001B[38;5;241;43m.\u001B[39;49m\u001B[43mattrs\u001B[49m\u001B[43m[\u001B[49m\u001B[38;5;124;43m\"\u001B[39;49m\u001B[38;5;124;43mhas_upper\u001B[39;49m\u001B[38;5;124;43m\"\u001B[39;49m\u001B[43m]\u001B[49m\u001B[43m,\u001B[49m\n\u001B[1;32m     39\u001B[0m \u001B[43m    \u001B[49m\u001B[43m)\u001B[49m\n\u001B[1;32m     41\u001B[0m     \u001B[38;5;28;01mreturn\u001B[39;00m step_model, step_model\u001B[38;5;241m.\u001B[39mfinish_steps\n",
      "File \u001B[0;32m~/miniforge3/envs/python38/lib/python3.8/site-packages/spacy/ml/parser_model.pyx:220\u001B[0m, in \u001B[0;36mspacy.ml.parser_model.ParserStepModel.__init__\u001B[0;34m()\u001B[0m\n",
      "File \u001B[0;32m~/miniforge3/envs/python38/lib/python3.8/site-packages/spacy/ml/parser_model.pyx:359\u001B[0m, in \u001B[0;36mspacy.ml.parser_model.precompute_hiddens.__init__\u001B[0;34m()\u001B[0m\n",
      "File \u001B[0;32m~/miniforge3/envs/python38/lib/python3.8/site-packages/thinc/model.py:291\u001B[0m, in \u001B[0;36mModel.__call__\u001B[0;34m(self, X, is_train)\u001B[0m\n\u001B[1;32m    288\u001B[0m \u001B[38;5;28;01mdef\u001B[39;00m \u001B[38;5;21m__call__\u001B[39m(\u001B[38;5;28mself\u001B[39m, X: InT, is_train: \u001B[38;5;28mbool\u001B[39m) \u001B[38;5;241m-\u001B[39m\u001B[38;5;241m>\u001B[39m Tuple[OutT, Callable]:\n\u001B[1;32m    289\u001B[0m \u001B[38;5;250m    \u001B[39m\u001B[38;5;124;03m\"\"\"Call the model's `forward` function, returning the output and a\u001B[39;00m\n\u001B[1;32m    290\u001B[0m \u001B[38;5;124;03m    callback to compute the gradients via backpropagation.\"\"\"\u001B[39;00m\n\u001B[0;32m--> 291\u001B[0m     \u001B[38;5;28;01mreturn\u001B[39;00m \u001B[38;5;28;43mself\u001B[39;49m\u001B[38;5;241;43m.\u001B[39;49m\u001B[43m_func\u001B[49m\u001B[43m(\u001B[49m\u001B[38;5;28;43mself\u001B[39;49m\u001B[43m,\u001B[49m\u001B[43m \u001B[49m\u001B[43mX\u001B[49m\u001B[43m,\u001B[49m\u001B[43m \u001B[49m\u001B[43mis_train\u001B[49m\u001B[38;5;241;43m=\u001B[39;49m\u001B[43mis_train\u001B[49m\u001B[43m)\u001B[49m\n",
      "File \u001B[0;32m~/miniforge3/envs/python38/lib/python3.8/site-packages/spacy/ml/_precomputable_affine.py:27\u001B[0m, in \u001B[0;36mforward\u001B[0;34m(model, X, is_train)\u001B[0m\n\u001B[1;32m     25\u001B[0m \u001B[38;5;66;03m# Preallocate array for layer output, including padding.\u001B[39;00m\n\u001B[1;32m     26\u001B[0m Yf \u001B[38;5;241m=\u001B[39m model\u001B[38;5;241m.\u001B[39mops\u001B[38;5;241m.\u001B[39malloc2f(X\u001B[38;5;241m.\u001B[39mshape[\u001B[38;5;241m0\u001B[39m] \u001B[38;5;241m+\u001B[39m \u001B[38;5;241m1\u001B[39m, nF \u001B[38;5;241m*\u001B[39m nO \u001B[38;5;241m*\u001B[39m nP, zeros\u001B[38;5;241m=\u001B[39m\u001B[38;5;28;01mFalse\u001B[39;00m)\n\u001B[0;32m---> 27\u001B[0m \u001B[43mmodel\u001B[49m\u001B[38;5;241;43m.\u001B[39;49m\u001B[43mops\u001B[49m\u001B[38;5;241;43m.\u001B[39;49m\u001B[43mgemm\u001B[49m\u001B[43m(\u001B[49m\u001B[43mX\u001B[49m\u001B[43m,\u001B[49m\u001B[43m \u001B[49m\u001B[43mW\u001B[49m\u001B[38;5;241;43m.\u001B[39;49m\u001B[43mreshape\u001B[49m\u001B[43m(\u001B[49m\u001B[43m(\u001B[49m\u001B[43mnF\u001B[49m\u001B[43m \u001B[49m\u001B[38;5;241;43m*\u001B[39;49m\u001B[43m \u001B[49m\u001B[43mnO\u001B[49m\u001B[43m \u001B[49m\u001B[38;5;241;43m*\u001B[39;49m\u001B[43m \u001B[49m\u001B[43mnP\u001B[49m\u001B[43m,\u001B[49m\u001B[43m \u001B[49m\u001B[43mnI\u001B[49m\u001B[43m)\u001B[49m\u001B[43m)\u001B[49m\u001B[43m,\u001B[49m\u001B[43m \u001B[49m\u001B[43mtrans2\u001B[49m\u001B[38;5;241;43m=\u001B[39;49m\u001B[38;5;28;43;01mTrue\u001B[39;49;00m\u001B[43m,\u001B[49m\u001B[43m \u001B[49m\u001B[43mout\u001B[49m\u001B[38;5;241;43m=\u001B[39;49m\u001B[43mYf\u001B[49m\u001B[43m[\u001B[49m\u001B[38;5;241;43m1\u001B[39;49m\u001B[43m:\u001B[49m\u001B[43m]\u001B[49m\u001B[43m)\u001B[49m\n\u001B[1;32m     28\u001B[0m Yf \u001B[38;5;241m=\u001B[39m Yf\u001B[38;5;241m.\u001B[39mreshape((Yf\u001B[38;5;241m.\u001B[39mshape[\u001B[38;5;241m0\u001B[39m], nF, nO, nP))\n\u001B[1;32m     30\u001B[0m \u001B[38;5;66;03m# Set padding. Padding has shape (1, nF, nO, nP). Unfortunately, we cannot\u001B[39;00m\n\u001B[1;32m     31\u001B[0m \u001B[38;5;66;03m# change its shape to (nF, nO, nP) without breaking existing models. So\u001B[39;00m\n\u001B[1;32m     32\u001B[0m \u001B[38;5;66;03m# we'll squeeze the first dimension here.\u001B[39;00m\n",
      "\u001B[0;31mKeyboardInterrupt\u001B[0m: "
     ]
    }
   ],
   "source": [
    "# Analyse der Spalte \"Text\"\n",
    "df[\"tokens\"] = df[\"Text\"].apply(tokenize_text)\n",
    "df[\"tokens_without_stopwords\"] = df[\"Text\"].apply(tokenize_without_stopwords)\n",
    "df[\"tokens_stopwords_only\"] = df[\"Text\"].apply(tokenize_only_stopwords)\n",
    "\n",
    "df[\"without_stopwords\"] = df[\"tokens_without_stopwords\"].apply(lambda x: \" \".join(x))\n",
    "df[\"stopwords_only\"] = df[\"tokens_stopwords_only\"].apply(lambda x: \" \".join(x))\n",
    "\n",
    "# Analyse: Hier die Anzahl der Wörter ohne Stoppwörter und nur mit Stoppwörtern\n",
    "df[\"count_without_stopwords\"] = df[\"tokens_without_stopwords\"].apply(len)\n",
    "df[\"count_stopwords\"] = df[\"tokens_stopwords_only\"].apply(len)\n",
    "\n",
    "# Ermittlung der fünf am häufigsten verwendeten Wörter ohne Stopwörter\n",
    "all_words_without_stopwords = [word for sublist in df[\"tokens_without_stopwords\"].tolist() for word in sublist]\n",
    "word_freq = Counter(all_words_without_stopwords)\n",
    "most_common_words = word_freq.most_common(5)\n",
    "\n",
    "print(\"Die fünf am häufigsten verwendeten Wörter (ohne Stopwörter) sind:\")\n",
    "for word, freq in most_common_words:\n",
    "    print(f\"{word}: {freq} mal\")\n",
    "    \n",
    "# Speichern derErgebnisse in einer neuen Excel-Datei\n",
    "df.to_excel(\"Stellenausschreibungen_2022_HES-solutions.xlsx\", index=False)\n",
    "\n",
    "print(\"Analyse und Tokenisierung abgeschlossen und Ergebnisse gespeichert.\")"
   ],
   "metadata": {
    "collapsed": false,
    "ExecuteTime": {
     "end_time": "2023-09-18T12:05:17.056820Z",
     "start_time": "2023-09-18T12:03:52.211431Z"
    }
   },
   "id": "8aff3f645df9e8b6"
  },
  {
   "cell_type": "code",
   "execution_count": null,
   "outputs": [],
   "source": [],
   "metadata": {
    "collapsed": false
   },
   "id": "6db7a0e8de36dea4"
  }
 ],
 "metadata": {
  "kernelspec": {
   "display_name": "Python 3",
   "language": "python",
   "name": "python3"
  },
  "language_info": {
   "codemirror_mode": {
    "name": "ipython",
    "version": 2
   },
   "file_extension": ".py",
   "mimetype": "text/x-python",
   "name": "python",
   "nbconvert_exporter": "python",
   "pygments_lexer": "ipython2",
   "version": "2.7.6"
  }
 },
 "nbformat": 4,
 "nbformat_minor": 5
}
